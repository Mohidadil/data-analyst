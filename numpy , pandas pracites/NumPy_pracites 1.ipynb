{
 "cells": [
  {
   "cell_type": "markdown",
   "id": "1b77788f",
   "metadata": {},
   "source": [
    "# First Import NumPy"
   ]
  },
  {
   "cell_type": "code",
   "execution_count": 1,
   "id": "ed119849",
   "metadata": {},
   "outputs": [],
   "source": [
    "import numpy as np "
   ]
  },
  {
   "cell_type": "markdown",
   "id": "dfe512df",
   "metadata": {},
   "source": [
    "# Create 1d Array"
   ]
  },
  {
   "cell_type": "code",
   "execution_count": 29,
   "id": "14f895c3",
   "metadata": {},
   "outputs": [],
   "source": [
    "arr_1d=np.array([1,2,3,4,5])"
   ]
  },
  {
   "cell_type": "markdown",
   "id": "3e18cd04",
   "metadata": {},
   "source": [
    "# run Arr_1d"
   ]
  },
  {
   "cell_type": "code",
   "execution_count": 31,
   "id": "61220696",
   "metadata": {},
   "outputs": [
    {
     "data": {
      "text/plain": [
       "array([1, 2, 3, 4, 5])"
      ]
     },
     "execution_count": 31,
     "metadata": {},
     "output_type": "execute_result"
    }
   ],
   "source": [
    "arr_1d"
   ]
  },
  {
   "cell_type": "markdown",
   "id": "f8ebd503",
   "metadata": {},
   "source": [
    "# Create 2d Array"
   ]
  },
  {
   "cell_type": "code",
   "execution_count": 32,
   "id": "d1a7100a",
   "metadata": {},
   "outputs": [],
   "source": [
    "arr_2d=np.array([[1,2,3,4,5],[6,7,8,9,0]])"
   ]
  },
  {
   "cell_type": "markdown",
   "id": "df40e566",
   "metadata": {},
   "source": [
    "# Run Arr_2d "
   ]
  },
  {
   "cell_type": "code",
   "execution_count": 33,
   "id": "505a7eeb",
   "metadata": {},
   "outputs": [
    {
     "data": {
      "text/plain": [
       "array([[1, 2, 3, 4, 5],\n",
       "       [6, 7, 8, 9, 0]])"
      ]
     },
     "execution_count": 33,
     "metadata": {},
     "output_type": "execute_result"
    }
   ],
   "source": [
    "arr_2d"
   ]
  },
  {
   "cell_type": "markdown",
   "id": "03148697",
   "metadata": {},
   "source": [
    "# Check Determine\n"
   ]
  },
  {
   "cell_type": "code",
   "execution_count": 6,
   "id": "a41c581d",
   "metadata": {},
   "outputs": [
    {
     "data": {
      "text/plain": [
       "1"
      ]
     },
     "execution_count": 6,
     "metadata": {},
     "output_type": "execute_result"
    }
   ],
   "source": [
    "arr_1d.ndim"
   ]
  },
  {
   "cell_type": "code",
   "execution_count": 34,
   "id": "a7e6eda3",
   "metadata": {},
   "outputs": [
    {
     "data": {
      "text/plain": [
       "2"
      ]
     },
     "execution_count": 34,
     "metadata": {},
     "output_type": "execute_result"
    }
   ],
   "source": [
    "arr_2d.ndim"
   ]
  },
  {
   "cell_type": "markdown",
   "id": "33f2cd7c",
   "metadata": {},
   "source": [
    "# Check Size"
   ]
  },
  {
   "cell_type": "code",
   "execution_count": 8,
   "id": "c76a0506",
   "metadata": {},
   "outputs": [
    {
     "data": {
      "text/plain": [
       "5"
      ]
     },
     "execution_count": 8,
     "metadata": {},
     "output_type": "execute_result"
    }
   ],
   "source": [
    "arr_1d.size"
   ]
  },
  {
   "cell_type": "code",
   "execution_count": 35,
   "id": "1203758f",
   "metadata": {},
   "outputs": [
    {
     "data": {
      "text/plain": [
       "10"
      ]
     },
     "execution_count": 35,
     "metadata": {},
     "output_type": "execute_result"
    }
   ],
   "source": [
    "arr_2d.size"
   ]
  },
  {
   "cell_type": "markdown",
   "id": "88f6179e",
   "metadata": {},
   "source": [
    "# Check Data Type Function"
   ]
  },
  {
   "cell_type": "code",
   "execution_count": 10,
   "id": "6010912e",
   "metadata": {},
   "outputs": [
    {
     "data": {
      "text/plain": [
       "dtype('int32')"
      ]
     },
     "execution_count": 10,
     "metadata": {},
     "output_type": "execute_result"
    }
   ],
   "source": [
    "arr_2d.dtype"
   ]
  },
  {
   "cell_type": "code",
   "execution_count": 36,
   "id": "32a4ea6c",
   "metadata": {},
   "outputs": [
    {
     "data": {
      "text/plain": [
       "dtype('int32')"
      ]
     },
     "execution_count": 36,
     "metadata": {},
     "output_type": "execute_result"
    }
   ],
   "source": [
    "arr_1d.dtype"
   ]
  },
  {
   "cell_type": "markdown",
   "id": "cec8889b",
   "metadata": {},
   "source": [
    "# create Ones Array Function"
   ]
  },
  {
   "cell_type": "code",
   "execution_count": 12,
   "id": "c4e7324b",
   "metadata": {},
   "outputs": [],
   "source": [
    "on_1=np.ones([3,4])"
   ]
  },
  {
   "cell_type": "code",
   "execution_count": 37,
   "id": "9ad1d6d6",
   "metadata": {},
   "outputs": [
    {
     "data": {
      "text/plain": [
       "array([[1., 1., 1., 1.],\n",
       "       [1., 1., 1., 1.],\n",
       "       [1., 1., 1., 1.]])"
      ]
     },
     "execution_count": 37,
     "metadata": {},
     "output_type": "execute_result"
    }
   ],
   "source": [
    "on_1"
   ]
  },
  {
   "cell_type": "markdown",
   "id": "a8f238e6",
   "metadata": {},
   "source": [
    "# Create Zeros Array Function "
   ]
  },
  {
   "cell_type": "code",
   "execution_count": 14,
   "id": "dff7a10f",
   "metadata": {},
   "outputs": [],
   "source": [
    "zo_1=np.zeros([5,4])"
   ]
  },
  {
   "cell_type": "code",
   "execution_count": 38,
   "id": "31d9b3f1",
   "metadata": {},
   "outputs": [
    {
     "data": {
      "text/plain": [
       "array([[0., 0., 0., 0.],\n",
       "       [0., 0., 0., 0.],\n",
       "       [0., 0., 0., 0.],\n",
       "       [0., 0., 0., 0.],\n",
       "       [0., 0., 0., 0.]])"
      ]
     },
     "execution_count": 38,
     "metadata": {},
     "output_type": "execute_result"
    }
   ],
   "source": [
    "zo_1"
   ]
  },
  {
   "cell_type": "markdown",
   "id": "778190dc",
   "metadata": {},
   "source": [
    "# Check Ones Data Type"
   ]
  },
  {
   "cell_type": "code",
   "execution_count": null,
   "id": "b8f09f62",
   "metadata": {},
   "outputs": [],
   "source": []
  },
  {
   "cell_type": "code",
   "execution_count": 39,
   "id": "484d41dd",
   "metadata": {},
   "outputs": [
    {
     "data": {
      "text/plain": [
       "dtype('float64')"
      ]
     },
     "execution_count": 39,
     "metadata": {},
     "output_type": "execute_result"
    }
   ],
   "source": [
    "on_1.dtype"
   ]
  },
  {
   "cell_type": "markdown",
   "id": "cc26d526",
   "metadata": {},
   "source": [
    "# Convert Float Ones Array To Int "
   ]
  },
  {
   "cell_type": "code",
   "execution_count": 17,
   "id": "28d6e9f0",
   "metadata": {},
   "outputs": [],
   "source": [
    "on_1_int=np.ones((5,3),dtype=int)"
   ]
  },
  {
   "cell_type": "code",
   "execution_count": 18,
   "id": "68e737a5",
   "metadata": {},
   "outputs": [
    {
     "data": {
      "text/plain": [
       "array([[1, 1, 1],\n",
       "       [1, 1, 1],\n",
       "       [1, 1, 1],\n",
       "       [1, 1, 1],\n",
       "       [1, 1, 1]])"
      ]
     },
     "execution_count": 18,
     "metadata": {},
     "output_type": "execute_result"
    }
   ],
   "source": [
    "on_1_int"
   ]
  },
  {
   "cell_type": "code",
   "execution_count": 40,
   "id": "fb42381f",
   "metadata": {},
   "outputs": [
    {
     "data": {
      "text/plain": [
       "dtype('int32')"
      ]
     },
     "execution_count": 40,
     "metadata": {},
     "output_type": "execute_result"
    }
   ],
   "source": [
    "on_1_int.dtype"
   ]
  },
  {
   "cell_type": "markdown",
   "id": "997bd487",
   "metadata": {},
   "source": [
    "# Check Zeros Data Type"
   ]
  },
  {
   "cell_type": "code",
   "execution_count": 42,
   "id": "d15a1f1e",
   "metadata": {},
   "outputs": [
    {
     "data": {
      "text/plain": [
       "dtype('float64')"
      ]
     },
     "execution_count": 42,
     "metadata": {},
     "output_type": "execute_result"
    }
   ],
   "source": [
    "zo_1.dtype"
   ]
  },
  {
   "cell_type": "markdown",
   "id": "9322e0f7",
   "metadata": {},
   "source": [
    "# Convert Float Zeros Array To Bool"
   ]
  },
  {
   "cell_type": "code",
   "execution_count": 21,
   "id": "bd6b22e0",
   "metadata": {},
   "outputs": [],
   "source": [
    "zo_1_bool=np.zeros((2,9),dtype=bool)"
   ]
  },
  {
   "cell_type": "code",
   "execution_count": 43,
   "id": "d6633e28",
   "metadata": {},
   "outputs": [
    {
     "data": {
      "text/plain": [
       "dtype('bool')"
      ]
     },
     "execution_count": 43,
     "metadata": {},
     "output_type": "execute_result"
    }
   ],
   "source": [
    "zo_1_bool.dtype"
   ]
  },
  {
   "cell_type": "markdown",
   "id": "4e079709",
   "metadata": {},
   "source": [
    "# Convert Float Zeros Array To Str"
   ]
  },
  {
   "cell_type": "code",
   "execution_count": 24,
   "id": "b71e4c15",
   "metadata": {},
   "outputs": [],
   "source": [
    "zo_1_str=np.zeros((3,4),dtype= str)"
   ]
  },
  {
   "cell_type": "code",
   "execution_count": 44,
   "id": "4f956850",
   "metadata": {},
   "outputs": [
    {
     "data": {
      "text/plain": [
       "array([['', '', '', ''],\n",
       "       ['', '', '', ''],\n",
       "       ['', '', '', '']], dtype='<U1')"
      ]
     },
     "execution_count": 44,
     "metadata": {},
     "output_type": "execute_result"
    }
   ],
   "source": [
    "zo_1_str"
   ]
  },
  {
   "cell_type": "markdown",
   "id": "9595e28b",
   "metadata": {},
   "source": [
    "# Create Empty Array "
   ]
  },
  {
   "cell_type": "code",
   "execution_count": 27,
   "id": "a9a63970",
   "metadata": {},
   "outputs": [],
   "source": [
    "em_1=np.empty((3,3))"
   ]
  },
  {
   "cell_type": "code",
   "execution_count": 28,
   "id": "f15bd3df",
   "metadata": {},
   "outputs": [
    {
     "data": {
      "text/plain": [
       "array([[0.00e+000, 0.00e+000, 0.00e+000],\n",
       "       [0.00e+000, 0.00e+000, 2.57e-321],\n",
       "       [0.00e+000, 0.00e+000, 0.00e+000]])"
      ]
     },
     "execution_count": 28,
     "metadata": {},
     "output_type": "execute_result"
    }
   ],
   "source": [
    "em_1"
   ]
  },
  {
   "cell_type": "code",
   "execution_count": null,
   "id": "9214355a",
   "metadata": {},
   "outputs": [],
   "source": []
  }
 ],
 "metadata": {
  "kernelspec": {
   "display_name": "Python 3 (ipykernel)",
   "language": "python",
   "name": "python3"
  },
  "language_info": {
   "codemirror_mode": {
    "name": "ipython",
    "version": 3
   },
   "file_extension": ".py",
   "mimetype": "text/x-python",
   "name": "python",
   "nbconvert_exporter": "python",
   "pygments_lexer": "ipython3",
   "version": "3.11.7"
  }
 },
 "nbformat": 4,
 "nbformat_minor": 5
}
